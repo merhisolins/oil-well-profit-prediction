{
 "cells": [
  {
   "cell_type": "code",
   "execution_count": 1,
   "metadata": {},
   "outputs": [],
   "source": [
    "import pandas as pd\n",
    "import numpy as np\n",
    "from sklearn.model_selection import train_test_split\n",
    "from sklearn.linear_model import LinearRegression\n",
    "from sklearn.metrics import mean_squared_error\n",
    "from scipy.stats import bootstrap\n",
    "import os"
   ]
  },
  {
   "cell_type": "code",
   "execution_count": 2,
   "metadata": {},
   "outputs": [
    {
     "name": "stdout",
     "output_type": "stream",
     "text": [
      "      id        f0        f1        f2     product\n",
      "0  txEyH  0.705745 -0.497823  1.221170  105.280062\n",
      "1  2acmU  1.334711 -0.340164  4.365080   73.037750\n",
      "2  409Wp  1.022732  0.151990  1.419926   85.265647\n",
      "3  iJLyR -0.032172  0.139033  2.978566  168.620776\n",
      "4  Xdl7t  1.988431  0.155413  4.751769  154.036647\n"
     ]
    }
   ],
   "source": [
    "# Define o diretório base como a pasta do projeto\n",
    "BASE_DIR = os.getcwd()\n",
    "\n",
    "DATA_PATH = os.path.join(BASE_DIR, '..', 'data', 'geo_data_0.csv')\n",
    "\n",
    "data_0 = pd.read_csv(DATA_PATH )\n",
    "print(data_0.head(5))"
   ]
  },
  {
   "cell_type": "code",
   "execution_count": 3,
   "metadata": {},
   "outputs": [
    {
     "name": "stdout",
     "output_type": "stream",
     "text": [
      "<class 'pandas.core.frame.DataFrame'>\n",
      "RangeIndex: 100000 entries, 0 to 99999\n",
      "Data columns (total 5 columns):\n",
      " #   Column   Non-Null Count   Dtype  \n",
      "---  ------   --------------   -----  \n",
      " 0   id       100000 non-null  object \n",
      " 1   f0       100000 non-null  float64\n",
      " 2   f1       100000 non-null  float64\n",
      " 3   f2       100000 non-null  float64\n",
      " 4   product  100000 non-null  float64\n",
      "dtypes: float64(4), object(1)\n",
      "memory usage: 3.8+ MB\n",
      "None\n"
     ]
    }
   ],
   "source": [
    "print(data_0.info())"
   ]
  },
  {
   "cell_type": "code",
   "execution_count": 4,
   "metadata": {},
   "outputs": [
    {
     "name": "stdout",
     "output_type": "stream",
     "text": [
      "      id         f0         f1        f2     product\n",
      "0  kBEdx -15.001348  -8.276000 -0.005876    3.179103\n",
      "1  62mP7  14.272088  -3.475083  0.999183   26.953261\n",
      "2  vyE1P   6.263187  -5.948386  5.001160  134.766305\n",
      "3  KcrkZ -13.081196 -11.506057  4.999415  137.945408\n",
      "4  AHL4O  12.702195  -8.147433  5.004363  134.766305\n"
     ]
    }
   ],
   "source": [
    "# Define o diretório base como a pasta do projeto\n",
    "BASE_DIR = os.getcwd()\n",
    "\n",
    "DATA_PATH = os.path.join(BASE_DIR, '..', 'data', 'geo_data_1.csv')\n",
    "\n",
    "data_1 = pd.read_csv(DATA_PATH )\n",
    "\n",
    "print(data_1.head(5))"
   ]
  },
  {
   "cell_type": "code",
   "execution_count": 5,
   "metadata": {},
   "outputs": [
    {
     "name": "stdout",
     "output_type": "stream",
     "text": [
      "<class 'pandas.core.frame.DataFrame'>\n",
      "RangeIndex: 100000 entries, 0 to 99999\n",
      "Data columns (total 5 columns):\n",
      " #   Column   Non-Null Count   Dtype  \n",
      "---  ------   --------------   -----  \n",
      " 0   id       100000 non-null  object \n",
      " 1   f0       100000 non-null  float64\n",
      " 2   f1       100000 non-null  float64\n",
      " 3   f2       100000 non-null  float64\n",
      " 4   product  100000 non-null  float64\n",
      "dtypes: float64(4), object(1)\n",
      "memory usage: 3.8+ MB\n",
      "None\n"
     ]
    }
   ],
   "source": [
    "print(data_1.info())"
   ]
  },
  {
   "cell_type": "code",
   "execution_count": 6,
   "metadata": {},
   "outputs": [
    {
     "name": "stdout",
     "output_type": "stream",
     "text": [
      "      id        f0        f1        f2     product\n",
      "0  fwXo0 -1.146987  0.963328 -0.828965   27.758673\n",
      "1  WJtFt  0.262778  0.269839 -2.530187   56.069697\n",
      "2  ovLUW  0.194587  0.289035 -5.586433   62.871910\n",
      "3  q6cA6  2.236060 -0.553760  0.930038  114.572842\n",
      "4  WPMUX -0.515993  1.716266  5.899011  149.600746\n"
     ]
    }
   ],
   "source": [
    "# Define o diretório base como a pasta do projeto\n",
    "BASE_DIR = os.getcwd()\n",
    "\n",
    "DATA_PATH = os.path.join(BASE_DIR, '..', 'data', 'geo_data_2.csv')\n",
    "\n",
    "data_2 = pd.read_csv(DATA_PATH )\n",
    "\n",
    "print(data_2.head(5))"
   ]
  },
  {
   "cell_type": "code",
   "execution_count": 7,
   "metadata": {},
   "outputs": [
    {
     "name": "stdout",
     "output_type": "stream",
     "text": [
      "<class 'pandas.core.frame.DataFrame'>\n",
      "RangeIndex: 100000 entries, 0 to 99999\n",
      "Data columns (total 5 columns):\n",
      " #   Column   Non-Null Count   Dtype  \n",
      "---  ------   --------------   -----  \n",
      " 0   id       100000 non-null  object \n",
      " 1   f0       100000 non-null  float64\n",
      " 2   f1       100000 non-null  float64\n",
      " 3   f2       100000 non-null  float64\n",
      " 4   product  100000 non-null  float64\n",
      "dtypes: float64(4), object(1)\n",
      "memory usage: 3.8+ MB\n",
      "None\n"
     ]
    }
   ],
   "source": [
    "print(data_2.info())"
   ]
  },
  {
   "cell_type": "code",
   "execution_count": 8,
   "metadata": {},
   "outputs": [],
   "source": [
    "# Função para treinar o modelo e imprimir resultados\n",
    "def train_and_evaluate(data):\n",
    "    # Divida os dados em um conjunto de treinamento e um conjunto de validação em uma proporção de 75:25\n",
    "    features = data.drop(['id', 'product'], axis=1)\n",
    "    target = data['product']\n",
    "    features_train, features_valid, target_train, target_valid = train_test_split(\n",
    "        features, target, test_size=0.25, random_state=12345\n",
    "    )\n",
    "    \n",
    "    # Treine o modelo e faça previsões para o conjunto de validação\n",
    "    model = LinearRegression()\n",
    "    model.fit(features_train, target_train)\n",
    "    predictions = model.predict(features_valid)\n",
    "    \n",
    "    # Imprimir o volume médio previsto de reservas e o RMSE do modelo\n",
    "    print(f\"Volume médio previsto de reservas: {predictions.mean()}\")\n",
    "    rmse = np.sqrt(mean_squared_error(target_valid, predictions))\n",
    "    print(f\"RMSE do modelo: {rmse}\")\n",
    "    \n",
    "    # Retornar as previsões e as respostas corretas\n",
    "    return predictions, target_valid\n"
   ]
  },
  {
   "cell_type": "code",
   "execution_count": 9,
   "metadata": {},
   "outputs": [
    {
     "name": "stdout",
     "output_type": "stream",
     "text": [
      "Resultados para o arquivo geo_data_0.csv:\n",
      "Volume médio previsto de reservas: 92.59256778438035\n",
      "RMSE do modelo: 37.5794217150813\n",
      "\n",
      "Resultados para o arquivo geo_data_1.csv:\n",
      "Volume médio previsto de reservas: 68.72854689544602\n",
      "RMSE do modelo: 0.8930992867756165\n",
      "\n",
      "Resultados para o arquivo geo_data_2.csv:\n",
      "Volume médio previsto de reservas: 94.96504596800489\n",
      "RMSE do modelo: 40.02970873393434\n"
     ]
    }
   ],
   "source": [
    "# Dados do geo_data_0.csv\n",
    "print('Resultados para o arquivo geo_data_0.csv:')\n",
    "predictions_0, target_valid_0 = train_and_evaluate(data_0)\n",
    "\n",
    "# Dados do geo_data_1.csv\n",
    "print('\\nResultados para o arquivo geo_data_1.csv:')\n",
    "predictions_1, target_valid_1 = train_and_evaluate(data_1)\n",
    "\n",
    "# Dados do geo_data_2.csv\n",
    "print('\\nResultados para o arquivo geo_data_2.csv:')\n",
    "predictions_2, target_valid_2 = train_and_evaluate(data_2)\n",
    "\n",
    "# Adicionando o código para criar a 'predictions_list'\n",
    "predictions_list = [predictions_0, predictions_1, predictions_2]\n",
    "\n",
    "# Adicionando o código para criar a 'target_list'\n",
    "target_list = [target_valid_0, target_valid_1, target_valid_2]"
   ]
  },
  {
   "cell_type": "markdown",
   "metadata": {},
   "source": [
    "Esses resultados mostram o desempenho dos modelos de regressão linear em prever o volume de reservas de petróleo. A região 1 (geo_data_1.csv) apresentou o menor erro na previsão (RMSE), sugerindo que o modelo foi capaz de prever os volumes de reserva com maior precisão nessa região."
   ]
  },
  {
   "cell_type": "code",
   "execution_count": 10,
   "metadata": {},
   "outputs": [
    {
     "name": "stdout",
     "output_type": "stream",
     "text": [
      "Região 0: Volume médio previsto de reservas é 92.59 milhares de barris\n",
      "  - Volume necessário para evitar prejuízos: 111.11 milhares de barris\n",
      "  - Esta região possui um volume médio abaixo do ponto de equilíbrio e pode não ser lucrativa.\n",
      "\n",
      "Região 1: Volume médio previsto de reservas é 68.73 milhares de barris\n",
      "  - Volume necessário para evitar prejuízos: 111.11 milhares de barris\n",
      "  - Esta região possui um volume médio abaixo do ponto de equilíbrio e pode não ser lucrativa.\n",
      "\n",
      "Região 2: Volume médio previsto de reservas é 94.97 milhares de barris\n",
      "  - Volume necessário para evitar prejuízos: 111.11 milhares de barris\n",
      "  - Esta região possui um volume médio abaixo do ponto de equilíbrio e pode não ser lucrativa.\n",
      "\n"
     ]
    }
   ],
   "source": [
    "# Definindo as variáveis necessárias para os cálculos\n",
    "BUDGET_PER_WELL = 100_000_000 / 200  # Orçamento por poço\n",
    "REVENUE_PER_BARREL = 4500  # Receita por barril em dólares\n",
    "BREAK_EVEN_VOLUME_PER_WELL = 500_000 / REVENUE_PER_BARREL  # Volume em barris necessários por poço para evitar prejuízos\n",
    "\n",
    "# Comparando essa quantidade com o volume médio de cada região\n",
    "regions = ['Região 0', 'Região 1', 'Região 2']\n",
    "average_volumes = [predictions_0.mean(), predictions_1.mean(), predictions_2.mean()]\n",
    "\n",
    "# Exibindo as conclusões sobre a etapa de preparação para o cálculo de lucro\n",
    "for i, avg_volume in enumerate(average_volumes):\n",
    "    print(f\"{regions[i]}: Volume médio previsto de reservas é {avg_volume:.2f} milhares de barris\")\n",
    "    print(f\"  - Volume necessário para evitar prejuízos: {BREAK_EVEN_VOLUME_PER_WELL:.2f} milhares de barris\")\n",
    "    \n",
    "    if avg_volume >= BREAK_EVEN_VOLUME_PER_WELL:\n",
    "        print(\"  - Esta região possui um volume médio acima do ponto de equilíbrio e é lucrativa.\")\n",
    "    else:\n",
    "        print(\"  - Esta região possui um volume médio abaixo do ponto de equilíbrio e pode não ser lucrativa.\")\n",
    "    print()"
   ]
  },
  {
   "cell_type": "markdown",
   "metadata": {},
   "source": [
    "*Conclusões da etapa de preparação:* Nenhuma das regiões atende ao critério de produzir um volume médio de petróleo que corresponda ao ponto de equilíbrio financeiro, considerando o orçamento e a receita por barril estabelecidos. Isso sugere que, sob as condições atuais, todas as regiões podem representar um risco financeiro e exigirão uma análise de viabilidade mais aprofundada para determinar se o investimento pode ser justificado com base em outros fatores ou estratégias de mitigação de risco."
   ]
  },
  {
   "cell_type": "code",
   "execution_count": 11,
   "metadata": {},
   "outputs": [
    {
     "name": "stdout",
     "output_type": "stream",
     "text": [
      "Região 0:\n",
      "  - Volume total de reservas dos 200 melhores poços: 29601.84 milhares de barris\n",
      "  - Lucro potencial: $33,208,260.43\n",
      "Região 1:\n",
      "  - Volume total de reservas dos 200 melhores poços: 27589.08 milhares de barris\n",
      "  - Lucro potencial: $24,150,866.97\n",
      "Região 2:\n",
      "  - Volume total de reservas dos 200 melhores poços: 28245.22 milhares de barris\n",
      "  - Lucro potencial: $27,103,499.64\n",
      "\n",
      "A região sugerida para desenvolvimento de poços de petróleo é a Região 0 com um lucro potencial de $33,208,260.43 e um volume total de 29601.84 milhares de barris.\n"
     ]
    }
   ],
   "source": [
    "def calculate_profit_based_on_predictions(predictions, target, budget_per_well, revenue_per_barrel, break_even_volume_per_well):\n",
    "    # Selecionar os 200 melhores poços\n",
    "    top_predictions_indices = predictions.argsort()[-200:][::-1]\n",
    "    top_predictions = predictions[top_predictions_indices]\n",
    "    top_targets = target.iloc[top_predictions_indices].values\n",
    "    \n",
    "    # Sumarizar o volume total das reservas para os 200 melhores poços\n",
    "    total_volume = top_targets.sum()\n",
    "    \n",
    "    # Calcular o lucro total para os 200 melhores poços\n",
    "    total_revenue = total_volume * revenue_per_barrel\n",
    "    total_profit = total_revenue - (budget_per_well * 200)\n",
    "    \n",
    "    return total_profit, total_volume\n",
    "\n",
    "# Calcular o lucro potencial para cada região\n",
    "profits = []\n",
    "volumes = []\n",
    "\n",
    "for i, predictions in enumerate(predictions_list):\n",
    "    profit, volume = calculate_profit_based_on_predictions(predictions, target_list[i], BUDGET_PER_WELL, REVENUE_PER_BARREL, BREAK_EVEN_VOLUME_PER_WELL)\n",
    "    profits.append(profit)\n",
    "    volumes.append(volume)\n",
    "    print(f\"{regions[i]}:\")\n",
    "    print(f\"  - Volume total de reservas dos 200 melhores poços: {volume:.2f} milhares de barris\")\n",
    "    print(f\"  - Lucro potencial: ${profit:,.2f}\")\n",
    "\n",
    "# Sugerir a região para desenvolvimento\n",
    "best_region_index = np.argmax(profits)\n",
    "best_region_profit = profits[best_region_index]\n",
    "best_region_volume = volumes[best_region_index]\n",
    "print(f\"\\nA região sugerida para desenvolvimento de poços de petróleo é a {regions[best_region_index]} com um lucro potencial de ${best_region_profit:,.2f} e um volume total de {best_region_volume:.2f} milhares de barris.\")"
   ]
  },
  {
   "cell_type": "markdown",
   "metadata": {},
   "source": [
    "A análise dos lucros potenciais e volumes totais de reservas dos 200 melhores poços de petróleo em três regiões distintas sugere que a Região 0 seria a escolha mais promissora para o desenvolvimento de poços de petróleo, considerando que esta região possui o maior lucro potencial de $33,208,260.43 e também o maior volume total de reservas dos 200 melhores poços, com 29601.84 milhares de barris.\n",
    "\n",
    "No entanto, é crucial observar que, apesar da Região 0 apresentar o melhor desempenho entre as três, todas as regiões exibem um lucro potencial que indica uma estratégia de desenvolvimento atualmente não viável financeiramente. Isso é evidenciado pelo fato de que, mesmo para a região mais lucrativa, o lucro potencial está marginalmente acima do orçamento de desenvolvimento d $100 milhões, com um lucro adicional de apenas cerca d $33 milhões. Além disso, os volumes totais de reservas estão consideravelmente acima do volume de equilíbrio necessário para evitar prejuízos, indicando que, apesar de não recomendável, a Região 0 tem a melhor chance de retorno sobre o investimento com base nos critérios estabelecidos.\n",
    "\n",
    "Esses resultados indicam que uma revisão da estratégia de desenvolvimento atual é necessária. Tal revisão poderia incluir a redução de custos de desenvolvimento, o aumento da receita por barril, ou a busca por métodos que melhorem a precisão das previsões para identificar poços mais produtivos. Adicionalmente, outros fatores não quantificados neste modelo, como riscos geológicos ou operacionais, deveriam ser considerados antes de tomar uma decisão de investimento final. Essa análise enfatiza a importância de uma avaliação de risco abrangente e consideração cuidadosa dos potenciais retornos financeiros antes de prosseguir com o desenvolvimento de recursos naturais em qualquer uma das regiões estudadas.os"
   ]
  },
  {
   "cell_type": "code",
   "execution_count": 12,
   "metadata": {},
   "outputs": [
    {
     "name": "stdout",
     "output_type": "stream",
     "text": [
      "Região 0:\n",
      "Lucro médio: $33,256,343.55\n",
      "Intervalo de confiança de 95%: ($29,923,454.07, $36,183,226.04)\n",
      "Risco de prejuízo: 0.00%\n",
      "\n",
      "Região 1:\n",
      "Lucro médio: $24,150,866.97\n",
      "Intervalo de confiança de 95%: ($24,150,866.97, $24,150,866.97)\n",
      "Risco de prejuízo: 0.00%\n",
      "\n",
      "Região 2:\n",
      "Lucro médio: $27,019,016.10\n",
      "Intervalo de confiança de 95%: ($23,209,269.25, $30,623,363.76)\n",
      "Risco de prejuízo: 0.00%\n",
      "\n",
      "A região sugerida para o desenvolvimento de poços de petróleo é a Região 0,\n",
      "com um lucro médio de $33,256,343.55,\n",
      "um intervalo de confiança de 95% de ($29,923,454.07, $36,183,226.04),\n",
      "e um risco de prejuízo de 0.00%.\n",
      "Essa escolha leva em conta tanto o potencial de lucro quanto o risco associado.\n"
     ]
    }
   ],
   "source": [
    "# Função para calcular riscos e lucros\n",
    "def calculate_risks_and_profits(data, revenue_per_barrel, budget_per_well, n_samples=1000):\n",
    "    # Separar os recursos e alvos\n",
    "    features = data.drop(['id', 'product'], axis=1)\n",
    "    target = data['product']\n",
    "    \n",
    "    # Dividir os dados\n",
    "    features_train, features_valid, target_train, target_valid = train_test_split(\n",
    "        features, target, test_size=0.25, random_state=12345\n",
    "    )\n",
    "    \n",
    "    # Treinar o modelo\n",
    "    model = LinearRegression()\n",
    "    model.fit(features_train, target_train)\n",
    "    \n",
    "    # Fazer previsões\n",
    "    predictions = model.predict(features_valid)\n",
    "    \n",
    "    # Selecionar os 200 melhores poços\n",
    "    top_predictions_indices = predictions.argsort()[-200:]\n",
    "    \n",
    "    # Amostragem de bootstrap para calcular a distribuição do lucro\n",
    "    profits = []\n",
    "    for _ in range(n_samples):\n",
    "        sampled_indices = np.random.choice(top_predictions_indices, size=200, replace=True)\n",
    "        sampled_profits = target_valid.iloc[sampled_indices].sum() * revenue_per_barrel - budget_per_well * 200\n",
    "        profits.append(sampled_profits)\n",
    "    \n",
    "    profits = np.array(profits)\n",
    "    mean_profit = profits.mean()\n",
    "    lower = np.percentile(profits, 2.5)\n",
    "    upper = np.percentile(profits, 97.5)\n",
    "    risk_of_loss = np.mean(profits < 0) * 100\n",
    "    \n",
    "    return mean_profit, lower, upper, risk_of_loss\n",
    "\n",
    "# Calculando riscos e lucros para cada região\n",
    "results = {}\n",
    "for i, data in enumerate([data_0, data_1, data_2]):\n",
    "    mean_profit, lower, upper, risk_of_loss = calculate_risks_and_profits(\n",
    "        data, REVENUE_PER_BARREL, BUDGET_PER_WELL\n",
    "    )\n",
    "    results[i] = {\n",
    "        'mean_profit': mean_profit,\n",
    "        '95%_confidence_interval': (lower, upper),\n",
    "        'risk_of_loss': risk_of_loss\n",
    "    }\n",
    "\n",
    "# Apresentando os resultados e conclusões\n",
    "for i in range(3):\n",
    "    print(f\"Região {i}:\")\n",
    "    print(f\"Lucro médio: ${results[i]['mean_profit']:,.2f}\")\n",
    "    print(f\"Intervalo de confiança de 95%: (${results[i]['95%_confidence_interval'][0]:,.2f}, ${results[i]['95%_confidence_interval'][1]:,.2f})\")\n",
    "    print(f\"Risco de prejuízo: {results[i]['risk_of_loss']:.2f}%\\n\")\n",
    "\n",
    "# Determinar a melhor região para desenvolvimento de poços de petróleo\n",
    "best_region = min(results, key=lambda x: (results[x]['risk_of_loss'], -results[x]['mean_profit']))\n",
    "print(f\"A região sugerida para o desenvolvimento de poços de petróleo é a Região {best_region},\")\n",
    "print(f\"com um lucro médio de ${results[best_region]['mean_profit']:,.2f},\")\n",
    "print(f\"um intervalo de confiança de 95% de (${results[best_region]['95%_confidence_interval'][0]:,.2f}, ${results[best_region]['95%_confidence_interval'][1]:,.2f}),\")\n",
    "print(f\"e um risco de prejuízo de {results[best_region]['risk_of_loss']:.2f}%.\")\n",
    "print(f\"Essa escolha leva em conta tanto o potencial de lucro quanto o risco associado.\")"
   ]
  },
  {
   "cell_type": "markdown",
   "metadata": {},
   "source": [
    "Análise de Lucro e Risco por Regiãordas."
   ]
  },
  {
   "cell_type": "markdown",
   "metadata": {},
   "source": [
    "Região 0:\n",
    "\n",
    "Com um lucro médio de 33,201,960.97 e um intervalo de confiança de 95% que varia de 30,183,737.90 a 36,253,312.84, a Região 0 apresenta-se como a mais promissora para investimento em desenvolvimento de poços de petróleo.\n",
    "O risco de prejuízo para esta região é de 0.00%, indicando uma alta confiança nas previsões de que o investimento resultará em lucro.\n",
    "A Região 0 é, portanto, a escolha preferencial para o desenvolvimento devido ao seu maior potencial de retorno financeiro e à ausência de risco de perdas."
   ]
  },
  {
   "cell_type": "markdown",
   "metadata": {},
   "source": [
    "Região 1:\n",
    "\n",
    "A Região 1 mostra um lucro médio d $24,150,866.97. Intrigantemente, o intervalo de confiança de 95% não varia, indicando uma previsão de lucro extremamente consistente e sem variabilidade.\n",
    "Assim como a Região 0, a Região 1 tem um risco de prejuízo de 0.00%, o que sugere uma certeza de lucro com base nas previsões do modelo.\n",
    "Apesar do risco de prejuízo ser inexistente, o lucro médio mais baixo comparado à Região 0 significa que o retorno sobre o investimento é menor, tornando-a uma opção secundária."
   ]
  },
  {
   "cell_type": "markdown",
   "metadata": {},
   "source": [
    "Região 2:\n",
    "\n",
    "A Região 2 tem um lucro médio estimado e $27,055,445.91, com um intervalo de confiança de 95% entr $23,282,460.25  $30,726,180.61, o que indica uma maior incerteza nos resultados previstos em comparação com as outras regiões.\n",
    "O risco de prejuízo é novamente reportado como 0.00%, o que é consistente com as outras regiões, sugerindo que as previsões do modelo são otimistas quanto à rentabilidade do investimento.\n",
    "A maior variabilidade no lucro potencial, no entanto, coloca a Região 2 como uma opção menos atrativa do que a Regiã 0."
   ]
  },
  {
   "cell_type": "markdown",
   "metadata": {},
   "source": [
    "*Conclusão geral:*\n",
    "As análises das três regiões indicam que todas elas têm um potencial lucrativo com um risco de prejuízo nulo, de acordo com o modelo de previsão utilizado. A Região 0, com o maior lucro médio e um intervalo de confiança que sugere um sólido retorno sobre o investimento, é a escolha mais atraente para o desenvolvimento de poços de petróleo.\n",
    "\n",
    "É importante notar que um risco de prejuízo reportado como 0.00% em todas as regiões é extraordinário e levanta questões sobre a possibilidade de sobreajuste (overfitting) do modelo ou outras formas de viés nas previsões. Na prática, um investimento sem risco de prejuízo é altamente improvável, especialmente em indústrias com variáveis tão imprevisíveis como a exploração de petróleo. Portanto, é crucial realizar uma análise de risco mais aprofundada para validar essas previsões antes de se comprometer com decisões de investimento significativas."
   ]
  }
 ],
 "metadata": {
  "kernelspec": {
   "display_name": "Python 3 (ipykernel)",
   "language": "python",
   "name": "python3"
  },
  "language_info": {
   "codemirror_mode": {
    "name": "ipython",
    "version": 3
   },
   "file_extension": ".py",
   "mimetype": "text/x-python",
   "name": "python",
   "nbconvert_exporter": "python",
   "pygments_lexer": "ipython3",
   "version": "3.9.19"
  },
  "toc": {
   "base_numbering": 1,
   "nav_menu": {},
   "number_sections": true,
   "sideBar": true,
   "skip_h1_title": true,
   "title_cell": "Table of Contents",
   "title_sidebar": "Contents",
   "toc_cell": false,
   "toc_position": {},
   "toc_section_display": true,
   "toc_window_display": false
  }
 },
 "nbformat": 4,
 "nbformat_minor": 4
}
